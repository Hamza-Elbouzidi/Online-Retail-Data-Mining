{
 "cells": [
  {
   "cell_type": "raw",
   "id": "940e87dc-b918-4722-9e44-e1229915eded",
   "metadata": {},
   "source": [
    "Nous importons les bibliothèques nécessaires pour :\n",
    "\n",
    "Manipuler les données (pandas, numpy).\n",
    "Diviser les données en ensembles d'entraînement et de test (train_test_split).\n",
    "Transformer le texte en caractéristiques numériques via TF-IDF (TfidfVectorizer).\n",
    "Utiliser des modèles de classification (RandomForestClassifier, MultinomialNB, SVC).\n",
    "Évaluer les performances avec des métriques comme la précision et le score F1 (classification_report, accuracy_score)"
   ]
  },
  {
   "cell_type": "code",
   "execution_count": 1,
   "id": "dbd32119-3dc7-41d8-a437-1021d0b36d35",
   "metadata": {},
   "outputs": [],
   "source": [
    "import pandas as pd\n",
    "import numpy as np\n",
    "from sklearn.model_selection import train_test_split\n",
    "from sklearn.feature_extraction.text import TfidfVectorizer\n",
    "from sklearn.ensemble import RandomForestClassifier\n",
    "from sklearn.naive_bayes import MultinomialNB\n",
    "from sklearn.svm import SVC\n",
    "from sklearn.metrics import classification_report, accuracy_score"
   ]
  },
  {
   "cell_type": "raw",
   "id": "e9aabcfa-795f-4532-8186-eb39e08c0806",
   "metadata": {},
   "source": [
    "Nous chargeons le jeu de données Online_Retail.csv dans un DataFrame data en utilisant la bibliothèque pandas. Cela nous permet de manipuler et d'analyser facilement les données du fichier CSV."
   ]
  },
  {
   "cell_type": "code",
   "execution_count": 2,
   "id": "f4dc5ca3-9d22-40b3-a820-c25c507e6554",
   "metadata": {},
   "outputs": [],
   "source": [
    "dataset_path = \"Online_Retail.csv\"\n",
    "data = pd.read_csv(dataset_path)"
   ]
  },
  {
   "cell_type": "raw",
   "id": "b48a3e3a-d064-4d66-a26c-d3bc000ed922",
   "metadata": {},
   "source": [
    "Affichage des 5 premieres lignes"
   ]
  },
  {
   "cell_type": "code",
   "execution_count": 3,
   "id": "47fd068e-626b-4756-9d08-c9762f318913",
   "metadata": {},
   "outputs": [
    {
     "data": {
      "text/html": [
       "<div>\n",
       "<style scoped>\n",
       "    .dataframe tbody tr th:only-of-type {\n",
       "        vertical-align: middle;\n",
       "    }\n",
       "\n",
       "    .dataframe tbody tr th {\n",
       "        vertical-align: top;\n",
       "    }\n",
       "\n",
       "    .dataframe thead th {\n",
       "        text-align: right;\n",
       "    }\n",
       "</style>\n",
       "<table border=\"1\" class=\"dataframe\">\n",
       "  <thead>\n",
       "    <tr style=\"text-align: right;\">\n",
       "      <th></th>\n",
       "      <th>InvoiceNo</th>\n",
       "      <th>StockCode</th>\n",
       "      <th>Description</th>\n",
       "      <th>Quantity</th>\n",
       "      <th>InvoiceDate</th>\n",
       "      <th>UnitPrice</th>\n",
       "      <th>CustomerID</th>\n",
       "      <th>Country</th>\n",
       "    </tr>\n",
       "  </thead>\n",
       "  <tbody>\n",
       "    <tr>\n",
       "      <th>0</th>\n",
       "      <td>536365</td>\n",
       "      <td>85123A</td>\n",
       "      <td>WHITE HANGING HEART T-LIGHT HOLDER</td>\n",
       "      <td>6</td>\n",
       "      <td>12/1/2010 8:26</td>\n",
       "      <td>2.55</td>\n",
       "      <td>17850.0</td>\n",
       "      <td>United Kingdom</td>\n",
       "    </tr>\n",
       "    <tr>\n",
       "      <th>1</th>\n",
       "      <td>536365</td>\n",
       "      <td>71053</td>\n",
       "      <td>WHITE METAL LANTERN</td>\n",
       "      <td>6</td>\n",
       "      <td>12/1/2010 8:26</td>\n",
       "      <td>3.39</td>\n",
       "      <td>17850.0</td>\n",
       "      <td>United Kingdom</td>\n",
       "    </tr>\n",
       "    <tr>\n",
       "      <th>2</th>\n",
       "      <td>536365</td>\n",
       "      <td>84406B</td>\n",
       "      <td>CREAM CUPID HEARTS COAT HANGER</td>\n",
       "      <td>8</td>\n",
       "      <td>12/1/2010 8:26</td>\n",
       "      <td>2.75</td>\n",
       "      <td>17850.0</td>\n",
       "      <td>United Kingdom</td>\n",
       "    </tr>\n",
       "    <tr>\n",
       "      <th>3</th>\n",
       "      <td>536365</td>\n",
       "      <td>84029G</td>\n",
       "      <td>KNITTED UNION FLAG HOT WATER BOTTLE</td>\n",
       "      <td>6</td>\n",
       "      <td>12/1/2010 8:26</td>\n",
       "      <td>3.39</td>\n",
       "      <td>17850.0</td>\n",
       "      <td>United Kingdom</td>\n",
       "    </tr>\n",
       "    <tr>\n",
       "      <th>4</th>\n",
       "      <td>536365</td>\n",
       "      <td>84029E</td>\n",
       "      <td>RED WOOLLY HOTTIE WHITE HEART.</td>\n",
       "      <td>6</td>\n",
       "      <td>12/1/2010 8:26</td>\n",
       "      <td>3.39</td>\n",
       "      <td>17850.0</td>\n",
       "      <td>United Kingdom</td>\n",
       "    </tr>\n",
       "  </tbody>\n",
       "</table>\n",
       "</div>"
      ],
      "text/plain": [
       "  InvoiceNo StockCode                          Description  Quantity  \\\n",
       "0    536365    85123A   WHITE HANGING HEART T-LIGHT HOLDER         6   \n",
       "1    536365     71053                  WHITE METAL LANTERN         6   \n",
       "2    536365    84406B       CREAM CUPID HEARTS COAT HANGER         8   \n",
       "3    536365    84029G  KNITTED UNION FLAG HOT WATER BOTTLE         6   \n",
       "4    536365    84029E       RED WOOLLY HOTTIE WHITE HEART.         6   \n",
       "\n",
       "      InvoiceDate  UnitPrice  CustomerID         Country  \n",
       "0  12/1/2010 8:26       2.55     17850.0  United Kingdom  \n",
       "1  12/1/2010 8:26       3.39     17850.0  United Kingdom  \n",
       "2  12/1/2010 8:26       2.75     17850.0  United Kingdom  \n",
       "3  12/1/2010 8:26       3.39     17850.0  United Kingdom  \n",
       "4  12/1/2010 8:26       3.39     17850.0  United Kingdom  "
      ]
     },
     "execution_count": 3,
     "metadata": {},
     "output_type": "execute_result"
    }
   ],
   "source": [
    "data.head()"
   ]
  },
  {
   "cell_type": "raw",
   "id": "76792db0-8e47-40f7-ab38-4df0d60e9fba",
   "metadata": {},
   "source": [
    "Affichage des exemples aleatoire"
   ]
  },
  {
   "cell_type": "code",
   "execution_count": 4,
   "id": "824e202a-dd29-4ee8-bdfb-581284c53cf3",
   "metadata": {},
   "outputs": [
    {
     "data": {
      "text/html": [
       "<div>\n",
       "<style scoped>\n",
       "    .dataframe tbody tr th:only-of-type {\n",
       "        vertical-align: middle;\n",
       "    }\n",
       "\n",
       "    .dataframe tbody tr th {\n",
       "        vertical-align: top;\n",
       "    }\n",
       "\n",
       "    .dataframe thead th {\n",
       "        text-align: right;\n",
       "    }\n",
       "</style>\n",
       "<table border=\"1\" class=\"dataframe\">\n",
       "  <thead>\n",
       "    <tr style=\"text-align: right;\">\n",
       "      <th></th>\n",
       "      <th>InvoiceNo</th>\n",
       "      <th>StockCode</th>\n",
       "      <th>Description</th>\n",
       "      <th>Quantity</th>\n",
       "      <th>InvoiceDate</th>\n",
       "      <th>UnitPrice</th>\n",
       "      <th>CustomerID</th>\n",
       "      <th>Country</th>\n",
       "    </tr>\n",
       "  </thead>\n",
       "  <tbody>\n",
       "    <tr>\n",
       "      <th>503068</th>\n",
       "      <td>578858</td>\n",
       "      <td>22064</td>\n",
       "      <td>PINK DOUGHNUT TRINKET POT</td>\n",
       "      <td>4</td>\n",
       "      <td>11/27/2011 11:22</td>\n",
       "      <td>1.65</td>\n",
       "      <td>18145.0</td>\n",
       "      <td>United Kingdom</td>\n",
       "    </tr>\n",
       "    <tr>\n",
       "      <th>276157</th>\n",
       "      <td>561034</td>\n",
       "      <td>85152</td>\n",
       "      <td>HAND OVER THE CHOCOLATE   SIGN</td>\n",
       "      <td>1</td>\n",
       "      <td>7/24/2011 11:45</td>\n",
       "      <td>2.10</td>\n",
       "      <td>15506.0</td>\n",
       "      <td>United Kingdom</td>\n",
       "    </tr>\n",
       "    <tr>\n",
       "      <th>270557</th>\n",
       "      <td>C560572</td>\n",
       "      <td>M</td>\n",
       "      <td>Manual</td>\n",
       "      <td>-1</td>\n",
       "      <td>7/19/2011 14:45</td>\n",
       "      <td>112.35</td>\n",
       "      <td>17065.0</td>\n",
       "      <td>United Kingdom</td>\n",
       "    </tr>\n",
       "    <tr>\n",
       "      <th>182118</th>\n",
       "      <td>552520</td>\n",
       "      <td>21484</td>\n",
       "      <td>CHICK GREY HOT WATER BOTTLE</td>\n",
       "      <td>1</td>\n",
       "      <td>5/9/2011 16:34</td>\n",
       "      <td>7.46</td>\n",
       "      <td>NaN</td>\n",
       "      <td>United Kingdom</td>\n",
       "    </tr>\n",
       "    <tr>\n",
       "      <th>4551</th>\n",
       "      <td>536793</td>\n",
       "      <td>22570</td>\n",
       "      <td>FELTCRAFT CUSHION RABBIT</td>\n",
       "      <td>4</td>\n",
       "      <td>12/2/2010 15:39</td>\n",
       "      <td>3.75</td>\n",
       "      <td>16203.0</td>\n",
       "      <td>United Kingdom</td>\n",
       "    </tr>\n",
       "    <tr>\n",
       "      <th>118431</th>\n",
       "      <td>546430</td>\n",
       "      <td>22176</td>\n",
       "      <td>BLUE OWL SOFT TOY</td>\n",
       "      <td>2</td>\n",
       "      <td>3/13/2011 15:55</td>\n",
       "      <td>2.95</td>\n",
       "      <td>15918.0</td>\n",
       "      <td>United Kingdom</td>\n",
       "    </tr>\n",
       "    <tr>\n",
       "      <th>111809</th>\n",
       "      <td>545830</td>\n",
       "      <td>48187</td>\n",
       "      <td>DOORMAT NEW ENGLAND</td>\n",
       "      <td>1</td>\n",
       "      <td>3/7/2011 13:10</td>\n",
       "      <td>7.95</td>\n",
       "      <td>17634.0</td>\n",
       "      <td>United Kingdom</td>\n",
       "    </tr>\n",
       "    <tr>\n",
       "      <th>3700</th>\n",
       "      <td>536643</td>\n",
       "      <td>20969</td>\n",
       "      <td>RED FLORAL FELTCRAFT SHOULDER BAG</td>\n",
       "      <td>2</td>\n",
       "      <td>12/2/2010 11:57</td>\n",
       "      <td>3.75</td>\n",
       "      <td>14390.0</td>\n",
       "      <td>United Kingdom</td>\n",
       "    </tr>\n",
       "    <tr>\n",
       "      <th>402873</th>\n",
       "      <td>571508</td>\n",
       "      <td>23517</td>\n",
       "      <td>EMBROIDERED RIBBON REEL REBECCA</td>\n",
       "      <td>1</td>\n",
       "      <td>10/17/2011 15:27</td>\n",
       "      <td>5.79</td>\n",
       "      <td>NaN</td>\n",
       "      <td>United Kingdom</td>\n",
       "    </tr>\n",
       "    <tr>\n",
       "      <th>452713</th>\n",
       "      <td>575369</td>\n",
       "      <td>85202</td>\n",
       "      <td>HANGING WOOD AND FELT HEART</td>\n",
       "      <td>24</td>\n",
       "      <td>11/9/2011 15:09</td>\n",
       "      <td>0.42</td>\n",
       "      <td>16655.0</td>\n",
       "      <td>United Kingdom</td>\n",
       "    </tr>\n",
       "  </tbody>\n",
       "</table>\n",
       "</div>"
      ],
      "text/plain": [
       "       InvoiceNo StockCode                        Description  Quantity  \\\n",
       "503068    578858     22064         PINK DOUGHNUT TRINKET POT          4   \n",
       "276157    561034     85152    HAND OVER THE CHOCOLATE   SIGN          1   \n",
       "270557   C560572         M                             Manual        -1   \n",
       "182118    552520     21484        CHICK GREY HOT WATER BOTTLE         1   \n",
       "4551      536793     22570           FELTCRAFT CUSHION RABBIT         4   \n",
       "118431    546430     22176                  BLUE OWL SOFT TOY         2   \n",
       "111809    545830     48187                DOORMAT NEW ENGLAND         1   \n",
       "3700      536643     20969  RED FLORAL FELTCRAFT SHOULDER BAG         2   \n",
       "402873    571508     23517   EMBROIDERED RIBBON REEL REBECCA          1   \n",
       "452713    575369     85202        HANGING WOOD AND FELT HEART        24   \n",
       "\n",
       "             InvoiceDate  UnitPrice  CustomerID         Country  \n",
       "503068  11/27/2011 11:22       1.65     18145.0  United Kingdom  \n",
       "276157   7/24/2011 11:45       2.10     15506.0  United Kingdom  \n",
       "270557   7/19/2011 14:45     112.35     17065.0  United Kingdom  \n",
       "182118    5/9/2011 16:34       7.46         NaN  United Kingdom  \n",
       "4551     12/2/2010 15:39       3.75     16203.0  United Kingdom  \n",
       "118431   3/13/2011 15:55       2.95     15918.0  United Kingdom  \n",
       "111809    3/7/2011 13:10       7.95     17634.0  United Kingdom  \n",
       "3700     12/2/2010 11:57       3.75     14390.0  United Kingdom  \n",
       "402873  10/17/2011 15:27       5.79         NaN  United Kingdom  \n",
       "452713   11/9/2011 15:09       0.42     16655.0  United Kingdom  "
      ]
     },
     "execution_count": 4,
     "metadata": {},
     "output_type": "execute_result"
    }
   ],
   "source": [
    "data.sample(10)"
   ]
  },
  {
   "cell_type": "raw",
   "id": "cc16d216-b4c0-4c69-a171-69889dec4ea6",
   "metadata": {},
   "source": [
    "Nous affichons des informations sur le DataFrame data, telles que le nombre de lignes et de colonnes, les types de données pour chaque colonne, ainsi que le nombre de valeurs non nulles par colonne. Cela permet de mieux comprendre la structure du jeu de données."
   ]
  },
  {
   "cell_type": "code",
   "execution_count": 5,
   "id": "f49a1810-b525-4c7e-a880-3019b213c8b7",
   "metadata": {},
   "outputs": [
    {
     "name": "stdout",
     "output_type": "stream",
     "text": [
      "<class 'pandas.core.frame.DataFrame'>\n",
      "RangeIndex: 541909 entries, 0 to 541908\n",
      "Data columns (total 8 columns):\n",
      " #   Column       Non-Null Count   Dtype  \n",
      "---  ------       --------------   -----  \n",
      " 0   InvoiceNo    541909 non-null  object \n",
      " 1   StockCode    541909 non-null  object \n",
      " 2   Description  540455 non-null  object \n",
      " 3   Quantity     541909 non-null  int64  \n",
      " 4   InvoiceDate  541909 non-null  object \n",
      " 5   UnitPrice    541909 non-null  float64\n",
      " 6   CustomerID   406829 non-null  float64\n",
      " 7   Country      541909 non-null  object \n",
      "dtypes: float64(2), int64(1), object(5)\n",
      "memory usage: 33.1+ MB\n"
     ]
    }
   ],
   "source": [
    "data.info()"
   ]
  },
  {
   "cell_type": "raw",
   "id": "3c599db8-f19d-4f13-aa84-e115a69536d3",
   "metadata": {},
   "source": [
    "Nous comptons et affichons le nombre de doublons présents dans le jeu de données data. Cela nous aide à identifier des données redondantes qui pourraient être supprimées."
   ]
  },
  {
   "cell_type": "code",
   "execution_count": 6,
   "id": "c7dce605-a33b-4070-a718-f0bde3751f8c",
   "metadata": {},
   "outputs": [
    {
     "name": "stdout",
     "output_type": "stream",
     "text": [
      "Duplicates: 5268\n"
     ]
    }
   ],
   "source": [
    "print(\"Duplicates:\", data.duplicated().sum())"
   ]
  },
  {
   "cell_type": "raw",
   "id": "cb9487a9-70d8-4b8c-ab37-a1151f5969cb",
   "metadata": {},
   "source": [
    "Nous comptons et affichons le nombre total de valeurs nulles dans le jeu de données data. Cela permet de détecter les données manquantes qui nécessitent un traitement."
   ]
  },
  {
   "cell_type": "code",
   "execution_count": 7,
   "id": "7a900b65-b060-4f40-b5a6-7cd2a1a8c87b",
   "metadata": {},
   "outputs": [
    {
     "name": "stdout",
     "output_type": "stream",
     "text": [
      "Null values: 136534\n"
     ]
    }
   ],
   "source": [
    "print(\"Null values:\" , data.isnull().sum().sum())"
   ]
  },
  {
   "cell_type": "raw",
   "id": "525f9aa5-3eda-45a1-a22e-710893bd6d0f",
   "metadata": {},
   "source": [
    "Nous générons des statistiques descriptives pour les colonnes numériques du jeu de données data. Cela inclut des informations telles que la moyenne, l'écart type, les valeurs minimales et maximales, ainsi que les quartiles."
   ]
  },
  {
   "cell_type": "code",
   "execution_count": 8,
   "id": "eb2e5ab5-49d7-4cc1-b648-9af85c310cfd",
   "metadata": {},
   "outputs": [
    {
     "data": {
      "text/html": [
       "<div>\n",
       "<style scoped>\n",
       "    .dataframe tbody tr th:only-of-type {\n",
       "        vertical-align: middle;\n",
       "    }\n",
       "\n",
       "    .dataframe tbody tr th {\n",
       "        vertical-align: top;\n",
       "    }\n",
       "\n",
       "    .dataframe thead th {\n",
       "        text-align: right;\n",
       "    }\n",
       "</style>\n",
       "<table border=\"1\" class=\"dataframe\">\n",
       "  <thead>\n",
       "    <tr style=\"text-align: right;\">\n",
       "      <th></th>\n",
       "      <th>Quantity</th>\n",
       "      <th>UnitPrice</th>\n",
       "      <th>CustomerID</th>\n",
       "    </tr>\n",
       "  </thead>\n",
       "  <tbody>\n",
       "    <tr>\n",
       "      <th>count</th>\n",
       "      <td>541909.000000</td>\n",
       "      <td>541909.000000</td>\n",
       "      <td>406829.000000</td>\n",
       "    </tr>\n",
       "    <tr>\n",
       "      <th>mean</th>\n",
       "      <td>9.552250</td>\n",
       "      <td>4.611114</td>\n",
       "      <td>15287.690570</td>\n",
       "    </tr>\n",
       "    <tr>\n",
       "      <th>std</th>\n",
       "      <td>218.081158</td>\n",
       "      <td>96.759853</td>\n",
       "      <td>1713.600303</td>\n",
       "    </tr>\n",
       "    <tr>\n",
       "      <th>min</th>\n",
       "      <td>-80995.000000</td>\n",
       "      <td>-11062.060000</td>\n",
       "      <td>12346.000000</td>\n",
       "    </tr>\n",
       "    <tr>\n",
       "      <th>25%</th>\n",
       "      <td>1.000000</td>\n",
       "      <td>1.250000</td>\n",
       "      <td>13953.000000</td>\n",
       "    </tr>\n",
       "    <tr>\n",
       "      <th>50%</th>\n",
       "      <td>3.000000</td>\n",
       "      <td>2.080000</td>\n",
       "      <td>15152.000000</td>\n",
       "    </tr>\n",
       "    <tr>\n",
       "      <th>75%</th>\n",
       "      <td>10.000000</td>\n",
       "      <td>4.130000</td>\n",
       "      <td>16791.000000</td>\n",
       "    </tr>\n",
       "    <tr>\n",
       "      <th>max</th>\n",
       "      <td>80995.000000</td>\n",
       "      <td>38970.000000</td>\n",
       "      <td>18287.000000</td>\n",
       "    </tr>\n",
       "  </tbody>\n",
       "</table>\n",
       "</div>"
      ],
      "text/plain": [
       "            Quantity      UnitPrice     CustomerID\n",
       "count  541909.000000  541909.000000  406829.000000\n",
       "mean        9.552250       4.611114   15287.690570\n",
       "std       218.081158      96.759853    1713.600303\n",
       "min    -80995.000000  -11062.060000   12346.000000\n",
       "25%         1.000000       1.250000   13953.000000\n",
       "50%         3.000000       2.080000   15152.000000\n",
       "75%        10.000000       4.130000   16791.000000\n",
       "max     80995.000000   38970.000000   18287.000000"
      ]
     },
     "execution_count": 8,
     "metadata": {},
     "output_type": "execute_result"
    }
   ],
   "source": [
    "data.describe()"
   ]
  },
  {
   "cell_type": "raw",
   "id": "ff82a510-789d-4417-9ef1-1a6ca8cd5b0b",
   "metadata": {},
   "source": [
    "Nous comptons le nombre d'occurrences pour chaque pays dans la colonne Country afin d'identifier la distribution des données par localisation."
   ]
  },
  {
   "cell_type": "code",
   "execution_count": 9,
   "id": "5e87373d-af5f-4a88-8ea8-6f6eeadf8b3d",
   "metadata": {},
   "outputs": [
    {
     "data": {
      "text/plain": [
       "Country\n",
       "United Kingdom          495478\n",
       "Germany                   9495\n",
       "France                    8557\n",
       "EIRE                      8196\n",
       "Spain                     2533\n",
       "Netherlands               2371\n",
       "Belgium                   2069\n",
       "Switzerland               2002\n",
       "Portugal                  1519\n",
       "Australia                 1259\n",
       "Norway                    1086\n",
       "Italy                      803\n",
       "Channel Islands            758\n",
       "Finland                    695\n",
       "Cyprus                     622\n",
       "Sweden                     462\n",
       "Unspecified                446\n",
       "Austria                    401\n",
       "Denmark                    389\n",
       "Japan                      358\n",
       "Poland                     341\n",
       "Israel                     297\n",
       "USA                        291\n",
       "Hong Kong                  288\n",
       "Singapore                  229\n",
       "Iceland                    182\n",
       "Canada                     151\n",
       "Greece                     146\n",
       "Malta                      127\n",
       "United Arab Emirates        68\n",
       "European Community          61\n",
       "RSA                         58\n",
       "Lebanon                     45\n",
       "Lithuania                   35\n",
       "Brazil                      32\n",
       "Czech Republic              30\n",
       "Bahrain                     19\n",
       "Saudi Arabia                10\n",
       "Name: count, dtype: int64"
      ]
     },
     "execution_count": 9,
     "metadata": {},
     "output_type": "execute_result"
    }
   ],
   "source": [
    "data['Country'].value_counts()"
   ]
  },
  {
   "cell_type": "raw",
   "id": "b8e30e42-37d6-4569-88b4-e424e82f6c88",
   "metadata": {},
   "source": [
    "On commence par supprimer les doublons dans le DataFrame avec drop_duplicates(). Cette étape est importante pour garantir qu'il n'y ait pas de lignes redondantes, ce qui pourrait fausser l'analyse. Ensuite, on remplace les valeurs manquantes dans la colonne \"Description\" par \"Unknown\" grâce à la méthode fillna(). Cela permet de maintenir une cohérence dans les données en évitant les valeurs vides. On élimine également les lignes où l'identifiant du client est manquant, en utilisant dropna(subset=[\"CustomerID\"]), pour ne garder que les enregistrements complets. Puis, on applique un filtre pour ne garder que les lignes où la quantité et le prix unitaire sont positifs. Cela permet de s'assurer qu'on travaille uniquement avec des données valides. Enfin, on convertit la colonne \"InvoiceDate\" en type datetime avec pd.to_datetime(), ce qui facilite les manipulations et les analyses temporelles."
   ]
  },
  {
   "cell_type": "code",
   "execution_count": 10,
   "id": "c56fb247-370d-4f1e-96dd-f80b8e4e51ae",
   "metadata": {},
   "outputs": [],
   "source": [
    "data = data.drop_duplicates()"
   ]
  },
  {
   "cell_type": "code",
   "execution_count": 11,
   "id": "17b90e0e-dd99-44e9-9582-bed9627e16a0",
   "metadata": {},
   "outputs": [],
   "source": [
    "data[\"Description\"] = data[\"Description\"].fillna(\"Unknown\")"
   ]
  },
  {
   "cell_type": "code",
   "execution_count": 12,
   "id": "30ab3cba-bb4c-4d57-9f9a-94a490d62571",
   "metadata": {},
   "outputs": [],
   "source": [
    "data = data.dropna(subset=[\"CustomerID\"])"
   ]
  },
  {
   "cell_type": "code",
   "execution_count": 13,
   "id": "acac332f-33c6-4398-bbaa-e155d22b8384",
   "metadata": {},
   "outputs": [],
   "source": [
    "data = data[(data[\"Quantity\"] > 0 ) & (data[\"UnitPrice\"] > 0)]"
   ]
  },
  {
   "cell_type": "code",
   "execution_count": 14,
   "id": "40fa043c-75a8-4ca2-a774-e4ec0c88d7f0",
   "metadata": {},
   "outputs": [],
   "source": [
    "data[\"InvoiceDate\"] = pd.to_datetime(data[\"InvoiceDate\"])"
   ]
  },
  {
   "cell_type": "code",
   "execution_count": 15,
   "id": "51d6d8c5-dca3-4699-a687-f78221dd2b8e",
   "metadata": {},
   "outputs": [
    {
     "name": "stdout",
     "output_type": "stream",
     "text": [
      "<class 'pandas.core.frame.DataFrame'>\n",
      "Index: 392692 entries, 0 to 541908\n",
      "Data columns (total 8 columns):\n",
      " #   Column       Non-Null Count   Dtype         \n",
      "---  ------       --------------   -----         \n",
      " 0   InvoiceNo    392692 non-null  object        \n",
      " 1   StockCode    392692 non-null  object        \n",
      " 2   Description  392692 non-null  object        \n",
      " 3   Quantity     392692 non-null  int64         \n",
      " 4   InvoiceDate  392692 non-null  datetime64[ns]\n",
      " 5   UnitPrice    392692 non-null  float64       \n",
      " 6   CustomerID   392692 non-null  float64       \n",
      " 7   Country      392692 non-null  object        \n",
      "dtypes: datetime64[ns](1), float64(2), int64(1), object(4)\n",
      "memory usage: 27.0+ MB\n"
     ]
    }
   ],
   "source": [
    "data.info()"
   ]
  },
  {
   "cell_type": "raw",
   "id": "2c55e3ba-a469-444a-b826-21c76c7bd097",
   "metadata": {},
   "source": [
    "\n",
    "La commande data.describe() génère des statistiques descriptives pour les colonnes numériques du DataFrame, et voici l'output correspondant :\n",
    "\n",
    "Quantity : On observe un nombre total de 392,692 valeurs. La moyenne est de 13.12, avec une valeur minimale de 1 et maximale de 80,995. Cela suggère une large variation des quantités, ce qui peut indiquer des transactions avec de très grandes quantités.\n",
    "\n",
    "InvoiceDate : Cette colonne contient des dates avec un nombre total de 392,692 enregistrements. La moyenne montre que les dates sont concentrées autour du 10 juillet 2011. Les valeurs minimales et maximales couvrent une période de décembre 2010 à décembre 2011.\n",
    "\n",
    "UnitPrice : Le prix unitaire moyen est de 3.13, avec un minimum de 0.001 et un maximum de 8,142.75. La grande différence entre le minimum et le maximum pourrait indiquer des erreurs ou des transactions anormales avec des prix très élevés ou très faibles.\n",
    "\n",
    "CustomerID : Les identifiants des clients varient entre 12,346 et 18,287. La moyenne autour de 15,287 indique que les identifiants sont répartis de manière assez uniforme, mais la grande différence entre les valeurs minimales et maximales pourrait aussi suggérer des groupes de clients spécifiques.\n",
    "\n",
    "Les statistiques de l'écart-type montrent aussi une grande variabilité pour les quantités et les prix unitaires. L'absence de valeur pour InvoiceDate dans l'écart-type est normale, car c'est une colonne de type date."
   ]
  },
  {
   "cell_type": "code",
   "execution_count": 16,
   "id": "296cbcfb-67db-4940-93fa-9ee8d667cfc8",
   "metadata": {},
   "outputs": [
    {
     "data": {
      "text/html": [
       "<div>\n",
       "<style scoped>\n",
       "    .dataframe tbody tr th:only-of-type {\n",
       "        vertical-align: middle;\n",
       "    }\n",
       "\n",
       "    .dataframe tbody tr th {\n",
       "        vertical-align: top;\n",
       "    }\n",
       "\n",
       "    .dataframe thead th {\n",
       "        text-align: right;\n",
       "    }\n",
       "</style>\n",
       "<table border=\"1\" class=\"dataframe\">\n",
       "  <thead>\n",
       "    <tr style=\"text-align: right;\">\n",
       "      <th></th>\n",
       "      <th>Quantity</th>\n",
       "      <th>InvoiceDate</th>\n",
       "      <th>UnitPrice</th>\n",
       "      <th>CustomerID</th>\n",
       "    </tr>\n",
       "  </thead>\n",
       "  <tbody>\n",
       "    <tr>\n",
       "      <th>count</th>\n",
       "      <td>392692.000000</td>\n",
       "      <td>392692</td>\n",
       "      <td>392692.000000</td>\n",
       "      <td>392692.000000</td>\n",
       "    </tr>\n",
       "    <tr>\n",
       "      <th>mean</th>\n",
       "      <td>13.119702</td>\n",
       "      <td>2011-07-10 19:13:07.771892480</td>\n",
       "      <td>3.125914</td>\n",
       "      <td>15287.843865</td>\n",
       "    </tr>\n",
       "    <tr>\n",
       "      <th>min</th>\n",
       "      <td>1.000000</td>\n",
       "      <td>2010-12-01 08:26:00</td>\n",
       "      <td>0.001000</td>\n",
       "      <td>12346.000000</td>\n",
       "    </tr>\n",
       "    <tr>\n",
       "      <th>25%</th>\n",
       "      <td>2.000000</td>\n",
       "      <td>2011-04-07 11:12:00</td>\n",
       "      <td>1.250000</td>\n",
       "      <td>13955.000000</td>\n",
       "    </tr>\n",
       "    <tr>\n",
       "      <th>50%</th>\n",
       "      <td>6.000000</td>\n",
       "      <td>2011-07-31 12:02:00</td>\n",
       "      <td>1.950000</td>\n",
       "      <td>15150.000000</td>\n",
       "    </tr>\n",
       "    <tr>\n",
       "      <th>75%</th>\n",
       "      <td>12.000000</td>\n",
       "      <td>2011-10-20 12:53:00</td>\n",
       "      <td>3.750000</td>\n",
       "      <td>16791.000000</td>\n",
       "    </tr>\n",
       "    <tr>\n",
       "      <th>max</th>\n",
       "      <td>80995.000000</td>\n",
       "      <td>2011-12-09 12:50:00</td>\n",
       "      <td>8142.750000</td>\n",
       "      <td>18287.000000</td>\n",
       "    </tr>\n",
       "    <tr>\n",
       "      <th>std</th>\n",
       "      <td>180.492832</td>\n",
       "      <td>NaN</td>\n",
       "      <td>22.241836</td>\n",
       "      <td>1713.539549</td>\n",
       "    </tr>\n",
       "  </tbody>\n",
       "</table>\n",
       "</div>"
      ],
      "text/plain": [
       "            Quantity                    InvoiceDate      UnitPrice  \\\n",
       "count  392692.000000                         392692  392692.000000   \n",
       "mean       13.119702  2011-07-10 19:13:07.771892480       3.125914   \n",
       "min         1.000000            2010-12-01 08:26:00       0.001000   \n",
       "25%         2.000000            2011-04-07 11:12:00       1.250000   \n",
       "50%         6.000000            2011-07-31 12:02:00       1.950000   \n",
       "75%        12.000000            2011-10-20 12:53:00       3.750000   \n",
       "max     80995.000000            2011-12-09 12:50:00    8142.750000   \n",
       "std       180.492832                            NaN      22.241836   \n",
       "\n",
       "          CustomerID  \n",
       "count  392692.000000  \n",
       "mean    15287.843865  \n",
       "min     12346.000000  \n",
       "25%     13955.000000  \n",
       "50%     15150.000000  \n",
       "75%     16791.000000  \n",
       "max     18287.000000  \n",
       "std      1713.539549  "
      ]
     },
     "execution_count": 16,
     "metadata": {},
     "output_type": "execute_result"
    }
   ],
   "source": [
    "data.describe()"
   ]
  },
  {
   "cell_type": "raw",
   "id": "9108a3a8-9416-4ed3-8972-9fd148d6f817",
   "metadata": {},
   "source": [
    "La ligne de code data[\"TotalPrice\"] = data[\"Quantity\"] * data[\"UnitPrice\"] crée une nouvelle colonne dans le DataFrame appelée \"TotalPrice\". Elle est calculée en multipliant les valeurs des colonnes \"Quantity\" et \"UnitPrice\" pour chaque ligne. Cela permet de calculer le prix total pour chaque transaction en fonction de la quantité achetée et du prix unitaire des produits. Cette nouvelle colonne est utile pour les analyses financières, comme le calcul des revenus ou des totaux des ventes."
   ]
  },
  {
   "cell_type": "code",
   "execution_count": 17,
   "id": "4ef91e44-bdef-4e6a-9fbd-6f2dc3176dd7",
   "metadata": {},
   "outputs": [],
   "source": [
    "data[\"TotalPrice\"] = data[\"Quantity\"] * data[\"UnitPrice\"]"
   ]
  },
  {
   "cell_type": "code",
   "execution_count": 18,
   "id": "29905283-ae76-41c3-9e2f-486ee4c16ba4",
   "metadata": {},
   "outputs": [
    {
     "data": {
      "text/html": [
       "<div>\n",
       "<style scoped>\n",
       "    .dataframe tbody tr th:only-of-type {\n",
       "        vertical-align: middle;\n",
       "    }\n",
       "\n",
       "    .dataframe tbody tr th {\n",
       "        vertical-align: top;\n",
       "    }\n",
       "\n",
       "    .dataframe thead th {\n",
       "        text-align: right;\n",
       "    }\n",
       "</style>\n",
       "<table border=\"1\" class=\"dataframe\">\n",
       "  <thead>\n",
       "    <tr style=\"text-align: right;\">\n",
       "      <th></th>\n",
       "      <th>InvoiceNo</th>\n",
       "      <th>StockCode</th>\n",
       "      <th>Description</th>\n",
       "      <th>Quantity</th>\n",
       "      <th>InvoiceDate</th>\n",
       "      <th>UnitPrice</th>\n",
       "      <th>CustomerID</th>\n",
       "      <th>Country</th>\n",
       "      <th>TotalPrice</th>\n",
       "    </tr>\n",
       "  </thead>\n",
       "  <tbody>\n",
       "    <tr>\n",
       "      <th>0</th>\n",
       "      <td>536365</td>\n",
       "      <td>85123A</td>\n",
       "      <td>WHITE HANGING HEART T-LIGHT HOLDER</td>\n",
       "      <td>6</td>\n",
       "      <td>2010-12-01 08:26:00</td>\n",
       "      <td>2.55</td>\n",
       "      <td>17850.0</td>\n",
       "      <td>United Kingdom</td>\n",
       "      <td>15.30</td>\n",
       "    </tr>\n",
       "    <tr>\n",
       "      <th>1</th>\n",
       "      <td>536365</td>\n",
       "      <td>71053</td>\n",
       "      <td>WHITE METAL LANTERN</td>\n",
       "      <td>6</td>\n",
       "      <td>2010-12-01 08:26:00</td>\n",
       "      <td>3.39</td>\n",
       "      <td>17850.0</td>\n",
       "      <td>United Kingdom</td>\n",
       "      <td>20.34</td>\n",
       "    </tr>\n",
       "    <tr>\n",
       "      <th>2</th>\n",
       "      <td>536365</td>\n",
       "      <td>84406B</td>\n",
       "      <td>CREAM CUPID HEARTS COAT HANGER</td>\n",
       "      <td>8</td>\n",
       "      <td>2010-12-01 08:26:00</td>\n",
       "      <td>2.75</td>\n",
       "      <td>17850.0</td>\n",
       "      <td>United Kingdom</td>\n",
       "      <td>22.00</td>\n",
       "    </tr>\n",
       "    <tr>\n",
       "      <th>3</th>\n",
       "      <td>536365</td>\n",
       "      <td>84029G</td>\n",
       "      <td>KNITTED UNION FLAG HOT WATER BOTTLE</td>\n",
       "      <td>6</td>\n",
       "      <td>2010-12-01 08:26:00</td>\n",
       "      <td>3.39</td>\n",
       "      <td>17850.0</td>\n",
       "      <td>United Kingdom</td>\n",
       "      <td>20.34</td>\n",
       "    </tr>\n",
       "    <tr>\n",
       "      <th>4</th>\n",
       "      <td>536365</td>\n",
       "      <td>84029E</td>\n",
       "      <td>RED WOOLLY HOTTIE WHITE HEART.</td>\n",
       "      <td>6</td>\n",
       "      <td>2010-12-01 08:26:00</td>\n",
       "      <td>3.39</td>\n",
       "      <td>17850.0</td>\n",
       "      <td>United Kingdom</td>\n",
       "      <td>20.34</td>\n",
       "    </tr>\n",
       "  </tbody>\n",
       "</table>\n",
       "</div>"
      ],
      "text/plain": [
       "  InvoiceNo StockCode                          Description  Quantity  \\\n",
       "0    536365    85123A   WHITE HANGING HEART T-LIGHT HOLDER         6   \n",
       "1    536365     71053                  WHITE METAL LANTERN         6   \n",
       "2    536365    84406B       CREAM CUPID HEARTS COAT HANGER         8   \n",
       "3    536365    84029G  KNITTED UNION FLAG HOT WATER BOTTLE         6   \n",
       "4    536365    84029E       RED WOOLLY HOTTIE WHITE HEART.         6   \n",
       "\n",
       "          InvoiceDate  UnitPrice  CustomerID         Country  TotalPrice  \n",
       "0 2010-12-01 08:26:00       2.55     17850.0  United Kingdom       15.30  \n",
       "1 2010-12-01 08:26:00       3.39     17850.0  United Kingdom       20.34  \n",
       "2 2010-12-01 08:26:00       2.75     17850.0  United Kingdom       22.00  \n",
       "3 2010-12-01 08:26:00       3.39     17850.0  United Kingdom       20.34  \n",
       "4 2010-12-01 08:26:00       3.39     17850.0  United Kingdom       20.34  "
      ]
     },
     "execution_count": 18,
     "metadata": {},
     "output_type": "execute_result"
    }
   ],
   "source": [
    "data.head()"
   ]
  },
  {
   "cell_type": "raw",
   "id": "6e7efd0d-6c62-42af-947f-64a49eb27e48",
   "metadata": {},
   "source": [
    "Ces lignes de code extraient des informations temporelles à partir de la colonne \"InvoiceDate\" et créent de nouvelles colonnes : l'année, le mois, le jour, le jour de la semaine et l'heure de chaque facture. Cela permet d'analyser les données en fonction de ces différentes dimensions temporelles, facilitant ainsi l'exploration des tendances saisonnières ou horaires."
   ]
  },
  {
   "cell_type": "code",
   "execution_count": 19,
   "id": "6efc89ec-4d7a-4b0d-8815-29931076c675",
   "metadata": {},
   "outputs": [],
   "source": [
    "data['Year'] = data['InvoiceDate'].dt.year\n",
    "data['Month'] = data['InvoiceDate'].dt.month\n",
    "data['Day'] = data['InvoiceDate'].dt.day\n",
    "data['DayOfWeek'] = data['InvoiceDate'].dt.dayofweek\n",
    "data['Hour'] = data['InvoiceDate'].dt.hour"
   ]
  },
  {
   "cell_type": "code",
   "execution_count": 20,
   "id": "fbbe938e-2fab-481a-a3d3-f6af460be25d",
   "metadata": {},
   "outputs": [
    {
     "data": {
      "text/html": [
       "<div>\n",
       "<style scoped>\n",
       "    .dataframe tbody tr th:only-of-type {\n",
       "        vertical-align: middle;\n",
       "    }\n",
       "\n",
       "    .dataframe tbody tr th {\n",
       "        vertical-align: top;\n",
       "    }\n",
       "\n",
       "    .dataframe thead th {\n",
       "        text-align: right;\n",
       "    }\n",
       "</style>\n",
       "<table border=\"1\" class=\"dataframe\">\n",
       "  <thead>\n",
       "    <tr style=\"text-align: right;\">\n",
       "      <th></th>\n",
       "      <th>InvoiceNo</th>\n",
       "      <th>StockCode</th>\n",
       "      <th>Description</th>\n",
       "      <th>Quantity</th>\n",
       "      <th>InvoiceDate</th>\n",
       "      <th>UnitPrice</th>\n",
       "      <th>CustomerID</th>\n",
       "      <th>Country</th>\n",
       "      <th>TotalPrice</th>\n",
       "      <th>Year</th>\n",
       "      <th>Month</th>\n",
       "      <th>Day</th>\n",
       "      <th>DayOfWeek</th>\n",
       "      <th>Hour</th>\n",
       "    </tr>\n",
       "  </thead>\n",
       "  <tbody>\n",
       "    <tr>\n",
       "      <th>0</th>\n",
       "      <td>536365</td>\n",
       "      <td>85123A</td>\n",
       "      <td>WHITE HANGING HEART T-LIGHT HOLDER</td>\n",
       "      <td>6</td>\n",
       "      <td>2010-12-01 08:26:00</td>\n",
       "      <td>2.55</td>\n",
       "      <td>17850.0</td>\n",
       "      <td>United Kingdom</td>\n",
       "      <td>15.30</td>\n",
       "      <td>2010</td>\n",
       "      <td>12</td>\n",
       "      <td>1</td>\n",
       "      <td>2</td>\n",
       "      <td>8</td>\n",
       "    </tr>\n",
       "    <tr>\n",
       "      <th>1</th>\n",
       "      <td>536365</td>\n",
       "      <td>71053</td>\n",
       "      <td>WHITE METAL LANTERN</td>\n",
       "      <td>6</td>\n",
       "      <td>2010-12-01 08:26:00</td>\n",
       "      <td>3.39</td>\n",
       "      <td>17850.0</td>\n",
       "      <td>United Kingdom</td>\n",
       "      <td>20.34</td>\n",
       "      <td>2010</td>\n",
       "      <td>12</td>\n",
       "      <td>1</td>\n",
       "      <td>2</td>\n",
       "      <td>8</td>\n",
       "    </tr>\n",
       "    <tr>\n",
       "      <th>2</th>\n",
       "      <td>536365</td>\n",
       "      <td>84406B</td>\n",
       "      <td>CREAM CUPID HEARTS COAT HANGER</td>\n",
       "      <td>8</td>\n",
       "      <td>2010-12-01 08:26:00</td>\n",
       "      <td>2.75</td>\n",
       "      <td>17850.0</td>\n",
       "      <td>United Kingdom</td>\n",
       "      <td>22.00</td>\n",
       "      <td>2010</td>\n",
       "      <td>12</td>\n",
       "      <td>1</td>\n",
       "      <td>2</td>\n",
       "      <td>8</td>\n",
       "    </tr>\n",
       "    <tr>\n",
       "      <th>3</th>\n",
       "      <td>536365</td>\n",
       "      <td>84029G</td>\n",
       "      <td>KNITTED UNION FLAG HOT WATER BOTTLE</td>\n",
       "      <td>6</td>\n",
       "      <td>2010-12-01 08:26:00</td>\n",
       "      <td>3.39</td>\n",
       "      <td>17850.0</td>\n",
       "      <td>United Kingdom</td>\n",
       "      <td>20.34</td>\n",
       "      <td>2010</td>\n",
       "      <td>12</td>\n",
       "      <td>1</td>\n",
       "      <td>2</td>\n",
       "      <td>8</td>\n",
       "    </tr>\n",
       "    <tr>\n",
       "      <th>4</th>\n",
       "      <td>536365</td>\n",
       "      <td>84029E</td>\n",
       "      <td>RED WOOLLY HOTTIE WHITE HEART.</td>\n",
       "      <td>6</td>\n",
       "      <td>2010-12-01 08:26:00</td>\n",
       "      <td>3.39</td>\n",
       "      <td>17850.0</td>\n",
       "      <td>United Kingdom</td>\n",
       "      <td>20.34</td>\n",
       "      <td>2010</td>\n",
       "      <td>12</td>\n",
       "      <td>1</td>\n",
       "      <td>2</td>\n",
       "      <td>8</td>\n",
       "    </tr>\n",
       "  </tbody>\n",
       "</table>\n",
       "</div>"
      ],
      "text/plain": [
       "  InvoiceNo StockCode                          Description  Quantity  \\\n",
       "0    536365    85123A   WHITE HANGING HEART T-LIGHT HOLDER         6   \n",
       "1    536365     71053                  WHITE METAL LANTERN         6   \n",
       "2    536365    84406B       CREAM CUPID HEARTS COAT HANGER         8   \n",
       "3    536365    84029G  KNITTED UNION FLAG HOT WATER BOTTLE         6   \n",
       "4    536365    84029E       RED WOOLLY HOTTIE WHITE HEART.         6   \n",
       "\n",
       "          InvoiceDate  UnitPrice  CustomerID         Country  TotalPrice  \\\n",
       "0 2010-12-01 08:26:00       2.55     17850.0  United Kingdom       15.30   \n",
       "1 2010-12-01 08:26:00       3.39     17850.0  United Kingdom       20.34   \n",
       "2 2010-12-01 08:26:00       2.75     17850.0  United Kingdom       22.00   \n",
       "3 2010-12-01 08:26:00       3.39     17850.0  United Kingdom       20.34   \n",
       "4 2010-12-01 08:26:00       3.39     17850.0  United Kingdom       20.34   \n",
       "\n",
       "   Year  Month  Day  DayOfWeek  Hour  \n",
       "0  2010     12    1          2     8  \n",
       "1  2010     12    1          2     8  \n",
       "2  2010     12    1          2     8  \n",
       "3  2010     12    1          2     8  \n",
       "4  2010     12    1          2     8  "
      ]
     },
     "execution_count": 20,
     "metadata": {},
     "output_type": "execute_result"
    }
   ],
   "source": [
    "data.head()"
   ]
  },
  {
   "cell_type": "raw",
   "id": "7fc79c07-2e02-4e3b-b890-3ecd5d4c3e24",
   "metadata": {},
   "source": [
    "L'output de la commande describe() sur les comptes non-zéros par ligne montre que, sur les 392,692 lignes du DataFrame, la moyenne de termes non nuls dans la matrice TF-IDF est d'environ 3.59. La plupart des lignes (25% et 50%) contiennent entre 3 et 4 termes significatifs. L'écart-type est de 1.16, ce qui indique une légère variabilité autour de la moyenne. Les valeurs minimales sont de 0, ce qui signifie que certaines lignes peuvent ne contenir aucun terme significatif, tandis que le nombre maximal de termes non nuls par ligne est de 7. Cela suggère que les descriptions contiennent généralement un nombre limité de termes importants."
   ]
  },
  {
   "cell_type": "code",
   "execution_count": 21,
   "id": "bd35c1b8-fa62-4fd9-8d9e-33274140b123",
   "metadata": {},
   "outputs": [
    {
     "name": "stdout",
     "output_type": "stream",
     "text": [
      "Non-zero counts per row (summary):\n",
      "count    392692.000000\n",
      "mean          3.589579\n",
      "std           1.159250\n",
      "min           0.000000\n",
      "25%           3.000000\n",
      "50%           4.000000\n",
      "75%           4.000000\n",
      "max           7.000000\n",
      "dtype: float64\n"
     ]
    },
    {
     "data": {
      "image/png": "[encoded data removed]",
      "text/plain": [
       "<Figure size 640x480 with 1 Axes>"
      ]
     },
     "metadata": {},
     "output_type": "display_data"
    }
   ],
   "source": [
    "from sklearn.feature_extraction.text import TfidfVectorizer\n",
    "\n",
    "tfidf_vectorizer = TfidfVectorizer(max_features=500, stop_words='english')\n",
    "tfidf_matrix = tfidf_vectorizer.fit_transform(data['Description'].fillna(''))\n",
    "\n",
    "non_zero_counts = tfidf_matrix.getnnz(axis=1)\n",
    "\n",
    "import pandas as pd\n",
    "print(\"Non-zero counts per row (summary):\")\n",
    "print(pd.Series(non_zero_counts).describe())\n",
    "\n",
    "import matplotlib.pyplot as plt\n",
    "plt.hist(non_zero_counts, bins=50, color='blue', alpha=0.7)\n",
    "plt.xlabel(\"Non-Zero TF-IDF Features\")\n",
    "plt.ylabel(\"Number of Rows\")\n",
    "plt.title(\"Distribution of Non-Zero Features in TF-IDF Matrix\")\n",
    "plt.show()"
   ]
  },
  {
   "cell_type": "raw",
   "id": "7c5fea26-61ea-4c93-8197-9b0910fc3f05",
   "metadata": {},
   "source": [
    "Cette étape commence par encoder la colonne \"Country\" en utilisant LabelEncoder, ce qui transforme les valeurs catégorielles de pays en entiers numériques, puis les ajoute à une nouvelle colonne \"CountryEncoded\". Ensuite, les données TF-IDF calculées précédemment sont converties en DataFrame et fusionnées avec les données d'origine. Le code concatène ces nouvelles colonnes TF-IDF avec le DataFrame existant, créant une représentation numérique des descriptions textuelles. Enfin, une sélection des lignes où les valeurs TF-IDF sont non nulles est effectuée, permettant d'examiner les lignes pertinentes contenant des termes significatifs."
   ]
  },
  {
   "cell_type": "code",
   "execution_count": 22,
   "id": "f6c6e9af-a8c1-46f6-ac15-e26d54ad40b8",
   "metadata": {},
   "outputs": [],
   "source": [
    "from sklearn.preprocessing import LabelEncoder\n",
    "\n",
    "encoder = LabelEncoder()\n",
    "data['CountryEncoded'] = encoder.fit_transform(data['Country'])"
   ]
  },
  {
   "cell_type": "code",
   "execution_count": 23,
   "id": "98069c8e-91dd-45ba-8d61-02260bd8c83c",
   "metadata": {},
   "outputs": [],
   "source": [
    "tfidf_feature_names = tfidf_vectorizer.get_feature_names_out()\n",
    "tfidf_df = pd.DataFrame(tfidf_matrix.toarray(), columns=tfidf_feature_names)\n",
    "\n",
    "tfidf_df.reset_index(drop=True, inplace=True)\n",
    "data.reset_index(drop=True, inplace=True)\n",
    "\n",
    "data = pd.concat([data, tfidf_df], axis=1)\n"
   ]
  },
  {
   "cell_type": "raw",
   "id": "6f2b7d1d-7322-4ab0-a905-dbf150aaeea0",
   "metadata": {},
   "source": [
    "L'output montre les premières lignes du DataFrame contenant des valeurs non nulles dans les caractéristiques TF-IDF. Pour chaque ligne, on retrouve les informations suivantes :\n",
    "\n",
    "Informations de base : Comme le numéro de facture, le code du produit, la description du produit, la quantité, le prix unitaire, l'ID du client, le pays et le prix total de la transaction.\n",
    "Colonnes supplémentaires : Les nouvelles colonnes créées à partir de la vectorisation TF-IDF, telles que les termes \"wood\", \"wooden\", \"word\", etc., qui sont les caractéristiques extraites de la colonne \"Description\". Ces colonnes ont une valeur de 0 ou 1, indiquant si le terme correspondant est présent ou non dans la description."
   ]
  },
  {
   "cell_type": "code",
   "execution_count": 24,
   "id": "973e4a23-6267-423a-808b-e7d20ce94b3d",
   "metadata": {},
   "outputs": [
    {
     "name": "stdout",
     "output_type": "stream",
     "text": [
      "Rows with non-zero TF-IDF values:\n",
      "  InvoiceNo StockCode                          Description  Quantity  \\\n",
      "0    536365    85123A   WHITE HANGING HEART T-LIGHT HOLDER         6   \n",
      "1    536365     71053                  WHITE METAL LANTERN         6   \n",
      "2    536365    84406B       CREAM CUPID HEARTS COAT HANGER         8   \n",
      "3    536365    84029G  KNITTED UNION FLAG HOT WATER BOTTLE         6   \n",
      "4    536365    84029E       RED WOOLLY HOTTIE WHITE HEART.         6   \n",
      "\n",
      "          InvoiceDate  UnitPrice  CustomerID         Country  TotalPrice  \\\n",
      "0 2010-12-01 08:26:00       2.55     17850.0  United Kingdom       15.30   \n",
      "1 2010-12-01 08:26:00       3.39     17850.0  United Kingdom       20.34   \n",
      "2 2010-12-01 08:26:00       2.75     17850.0  United Kingdom       22.00   \n",
      "3 2010-12-01 08:26:00       3.39     17850.0  United Kingdom       20.34   \n",
      "4 2010-12-01 08:26:00       3.39     17850.0  United Kingdom       20.34   \n",
      "\n",
      "   Year  ...  wood  wooden  woodland  word  world  wrap  wreath  writing  \\\n",
      "0  2010  ...   0.0     0.0       0.0   0.0    0.0   0.0     0.0      0.0   \n",
      "1  2010  ...   0.0     0.0       0.0   0.0    0.0   0.0     0.0      0.0   \n",
      "2  2010  ...   0.0     0.0       0.0   0.0    0.0   0.0     0.0      0.0   \n",
      "3  2010  ...   0.0     0.0       0.0   0.0    0.0   0.0     0.0      0.0   \n",
      "4  2010  ...   0.0     0.0       0.0   0.0    0.0   0.0     0.0      0.0   \n",
      "\n",
      "   yellow  zinc  \n",
      "0     0.0   0.0  \n",
      "1     0.0   0.0  \n",
      "2     0.0   0.0  \n",
      "3     0.0   0.0  \n",
      "4     0.0   0.0  \n",
      "\n",
      "[5 rows x 515 columns]\n"
     ]
    }
   ],
   "source": [
    "tfidf_columns = tfidf_feature_names  \n",
    "\n",
    "rows_with_tfidf_values = data[data[tfidf_columns].sum(axis=1) > 0]\n",
    "\n",
    "print(\"Rows with non-zero TF-IDF values:\")\n",
    "print(rows_with_tfidf_values.head())\n"
   ]
  },
  {
   "cell_type": "code",
   "execution_count": 25,
   "id": "593a18fc-4069-4294-8552-006e8faadd19",
   "metadata": {},
   "outputs": [
    {
     "name": "stdout",
     "output_type": "stream",
     "text": [
      "Non-zero entries in TF-IDF matrix: 1409599\n"
     ]
    }
   ],
   "source": [
    "print(\"Non-zero entries in TF-IDF matrix:\", tfidf_matrix.nnz)"
   ]
  },
  {
   "cell_type": "raw",
   "id": "3d66cb62-5b57-469d-b781-9ca52d3fc7d6",
   "metadata": {},
   "source": [
    "L'output montre les 10 premières positions où les valeurs non nulles apparaissent dans la matrice TF-IDF. Chaque tuple (ligne, colonne) représente une occurrence d'un terme spécifique dans une description. Cela permet de visualiser rapidement les termes clés associés aux premières occurrences dans les descriptions du DataFrame."
   ]
  },
  {
   "cell_type": "code",
   "execution_count": 26,
   "id": "8fee3f0e-0543-4156-ace0-fd19912f7c2d",
   "metadata": {},
   "outputs": [
    {
     "name": "stdout",
     "output_type": "stream",
     "text": [
      "Non-zero positions (row, column): [(0, 486), (0, 219), (0, 223), (0, 270), (0, 226), (1, 486), (1, 292), (1, 262), (2, 128), (2, 224)]\n"
     ]
    }
   ],
   "source": [
    "non_zero_indices = tfidf_matrix.nonzero()\n",
    "print(\"Non-zero positions (row, column):\", list(zip(non_zero_indices[0][:10], non_zero_indices[1][:10])))  "
   ]
  },
  {
   "cell_type": "raw",
   "id": "dba08341-5a88-4bfc-9032-5ef7bdc23a3f",
   "metadata": {},
   "source": [
    "Le code extrait les indices des valeurs non nulles dans la matrice TF-IDF, puis pour chaque position, il récupère la description du produit, le terme extrait, et la valeur TF-IDF associée. Par exemple, pour la ligne 0, la description \"WHITE HANGING HEART T-LIGHT HOLDER\" est associée aux termes \"white\", \"hanging\", \"heart\", \"light\" et \"holder\", chacun ayant un poids TF-IDF spécifique. L'output montre comment chaque terme important est représenté avec sa valeur dans la matrice TF-IDF, indiquant son importance dans la description."
   ]
  },
  {
   "cell_type": "code",
   "execution_count": 27,
   "id": "a9413b97-5382-405b-a0c6-fe9136b95541",
   "metadata": {},
   "outputs": [
    {
     "name": "stdout",
     "output_type": "stream",
     "text": [
      "Non-zero entries and their corresponding data:\n",
      "Row 0 | Description: WHITE HANGING HEART T-LIGHT HOLDER | Feature: white | TF-IDF Value: 0.4448267494821321\n",
      "Row 0 | Description: WHITE HANGING HEART T-LIGHT HOLDER | Feature: hanging | TF-IDF Value: 0.469573063447078\n",
      "Row 0 | Description: WHITE HANGING HEART T-LIGHT HOLDER | Feature: heart | TF-IDF Value: 0.38192072769864216\n",
      "Row 0 | Description: WHITE HANGING HEART T-LIGHT HOLDER | Feature: light | TF-IDF Value: 0.4621773846811181\n",
      "Row 0 | Description: WHITE HANGING HEART T-LIGHT HOLDER | Feature: holder | TF-IDF Value: 0.47133737797202996\n",
      "Row 1 | Description: WHITE METAL LANTERN | Feature: white | TF-IDF Value: 0.4829952932053673\n",
      "Row 1 | Description: WHITE METAL LANTERN | Feature: metal | TF-IDF Value: 0.48513040343991276\n",
      "Row 1 | Description: WHITE METAL LANTERN | Feature: lantern | TF-IDF Value: 0.7289472123547006\n",
      "Row 2 | Description: CREAM CUPID HEARTS COAT HANGER | Feature: cream | TF-IDF Value: 0.4242525266665898\n",
      "Row 2 | Description: CREAM CUPID HEARTS COAT HANGER | Feature: hearts | TF-IDF Value: 0.4651094716701248\n"
     ]
    }
   ],
   "source": [
    "non_zero_positions = list(zip(non_zero_indices[0], non_zero_indices[1]))[:10]  \n",
    "\n",
    "print(\"Non-zero entries and their corresponding data:\")\n",
    "for row_idx, col_idx in non_zero_positions:\n",
    "    description = data.loc[row_idx, 'Description']  \n",
    "    feature_name = tfidf_feature_names[col_idx]     \n",
    "    tfidf_value = tfidf_matrix[row_idx, col_idx]    \n",
    "    print(f\"Row {row_idx} | Description: {description} | Feature: {feature_name} | TF-IDF Value: {tfidf_value}\")\n"
   ]
  },
  {
   "cell_type": "raw",
   "id": "d1b5da41-6402-4ab7-8e40-09abb45f1ab1",
   "metadata": {},
   "source": [
    "Nous avons utilisé train_test_split pour diviser les données en ensembles d'entraînement et de test. Cela permet d'entraîner le modèle sur une portion des données et de l'évaluer sur une autre, assurant ainsi une évaluation fiable de ses performances. Ensuite, un modèle Naïve Bayes multinomial a été créé avec MultinomialNB et entraîné sur les données d'entraînement. Ce modèle est bien adapté aux données discrètes comme les comptes de mots, telles que celles générées par la vectorisation TF-IDF. Après l'entraînement, nous avons utilisé accuracy_score pour évaluer la précision du modèle, c'est-à-dire la proportion de prédictions correctes sur l'ensemble de test."
   ]
  },
  {
   "cell_type": "code",
   "execution_count": 28,
   "id": "bd6d794b-923b-4410-ac2d-67d66f24bc62",
   "metadata": {},
   "outputs": [],
   "source": [
    "from sklearn.model_selection import train_test_split\n",
    "from sklearn.naive_bayes import MultinomialNB\n",
    "from sklearn.metrics import accuracy_score\n",
    "import numpy as np"
   ]
  },
  {
   "cell_type": "raw",
   "id": "6876f2cc-9fc5-495e-be2e-fccc91940f24",
   "metadata": {},
   "source": [
    "La fonction evaluate_features sélectionne les caractéristiques spécifiées par leurs indices dans X et crée un sous-ensemble de données. Elle divise ensuite ces données en ensembles d'entraînement et de validation à l'aide de train_test_split. Un modèle Naïve Bayes multinomial est entraîné sur les données d'entraînement. Après l'entraînement, le modèle fait des prédictions sur l'ensemble de validation, et la précision est calculée à l'aide de accuracy_score. La fonction retourne ensuite cette précision pour évaluer l'impact des caractéristiques sélectionnées sur la performance du modèle."
   ]
  },
  {
   "cell_type": "code",
   "execution_count": 29,
   "id": "a56d4c36-86ca-4714-8d6b-f8a993aff4d3",
   "metadata": {},
   "outputs": [],
   "source": [
    "def evaluate_features(feature_indices, X, y):\n",
    "    X_selected = X[:, feature_indices]\n",
    "    \n",
    "    X_train, X_val, y_train, y_val = train_test_split(X_selected, y, test_size=0.3, random_state=42)\n",
    "    \n",
    "    clf = MultinomialNB()\n",
    "    clf.fit(X_train, y_train)\n",
    "    \n",
    "    y_pred = clf.predict(X_val)\n",
    "    accuracy = accuracy_score(y_val, y_pred)\n",
    "    \n",
    "    return accuracy"
   ]
  },
  {
   "cell_type": "raw",
   "id": "97f00079-0c8f-4f7e-bee2-7f3e1dd33de7",
   "metadata": {},
   "source": [
    "L'algorithme Firefly optimise la sélection des caractéristiques. Il génère des solutions aléatoires pour les caractéristiques et évalue leur performance à l'aide de evaluate_features. Ensuite, les lucioles (solutions) se déplacent vers celles qui ont de meilleures performances, en fonction de leur \"luminance\". Les lucioles sont mises à jour à chaque génération et leurs positions sont ajustées selon leur attractivité. Le processus continue jusqu'à un nombre maximal de générations. Finalement, l'algorithme retourne les meilleures caractéristiques sélectionnées."
   ]
  },
  {
   "cell_type": "code",
   "execution_count": 30,
   "id": "1299fd34-6d2e-4621-91b1-43dc5b6a45d2",
   "metadata": {},
   "outputs": [],
   "source": [
    "def firefly_algorithm(X, y, num_fireflies=10, max_generations=20, alpha=0.2, beta=1.0, gamma=1.0):\n",
    "    num_features = X.shape[1]\n",
    "    \n",
    "    fireflies = [np.random.choice([0.0, 1.0], size=num_features) for _ in range(num_fireflies)]\n",
    "    brightness = np.zeros(num_fireflies)\n",
    "    \n",
    "    for gen in range(max_generations):\n",
    "        for i, firefly in enumerate(fireflies):\n",
    "            selected_features = np.where(firefly > 0.5)[0] \n",
    "            brightness[i] = evaluate_features(selected_features, X, y)\n",
    "        \n",
    "        for i in range(num_fireflies):\n",
    "            for j in range(num_fireflies):\n",
    "                if brightness[j] > brightness[i]:  \n",
    "                    attraction = beta * np.exp(-gamma * np.linalg.norm(fireflies[i] - fireflies[j])**2)\n",
    "                    random_move = alpha * (np.random.random(size=num_features) - 0.5)\n",
    "                    fireflies[i] += attraction * (fireflies[j] - fireflies[i]) + random_move\n",
    "        \n",
    "        fireflies = [np.where(firefly > 0.5, 1.0, 0.0) for firefly in fireflies]\n",
    "        \n",
    "        best_brightness = max(brightness)\n",
    "        print(f\"Generation {gen+1}/{max_generations} - Best Brightness: {best_brightness}\")\n",
    "    \n",
    "    best_firefly = fireflies[np.argmax(brightness)]\n",
    "    selected_features = np.where(best_firefly > 0.5)[0]\n",
    "    \n",
    "    return selected_features\n"
   ]
  },
  {
   "cell_type": "raw",
   "id": "071a2fdb-4ed9-43e0-9f70-3eb3a28771e5",
   "metadata": {},
   "source": [
    "L'algorithme Firefly a été utilisé pour sélectionner les meilleures caractéristiques parmi les données de texte. Après 20 générations, il a identifié des caractéristiques pertinentes basées sur la luminance (performance de classification). L'output montre les indices des caractéristiques sélectionnées et les mots associés dans le TF-IDF. Parmi ces caractéristiques, on trouve des termes comme \"white\", \"balloon\", \"cushion\", \"heart\", et d'autres mots qui sont importants pour la classification. Cela indique que ces termes ont contribué à la meilleure performance du modèle."
   ]
  },
  {
   "cell_type": "code",
   "execution_count": 31,
   "id": "0e00703f-5e7d-4103-b1fe-5fe4e74d3b76",
   "metadata": {},
   "outputs": [
    {
     "name": "stdout",
     "output_type": "stream",
     "text": [
      "Generation 1/20 - Best Brightness: 0.8886747928833356\n",
      "Generation 2/20 - Best Brightness: 0.8886747928833356\n",
      "Generation 3/20 - Best Brightness: 0.8886747928833356\n",
      "Generation 4/20 - Best Brightness: 0.8886747928833356\n",
      "Generation 5/20 - Best Brightness: 0.8886747928833356\n",
      "Generation 6/20 - Best Brightness: 0.8886747928833356\n",
      "Generation 7/20 - Best Brightness: 0.8886747928833356\n",
      "Generation 8/20 - Best Brightness: 0.8886747928833356\n",
      "Generation 9/20 - Best Brightness: 0.8886747928833356\n",
      "Generation 10/20 - Best Brightness: 0.8886747928833356\n",
      "Generation 11/20 - Best Brightness: 0.8886747928833356\n",
      "Generation 12/20 - Best Brightness: 0.8886747928833356\n",
      "Generation 13/20 - Best Brightness: 0.8886747928833356\n",
      "Generation 14/20 - Best Brightness: 0.8886747928833356\n",
      "Generation 15/20 - Best Brightness: 0.8886747928833356\n",
      "Generation 16/20 - Best Brightness: 0.8886747928833356\n",
      "Generation 17/20 - Best Brightness: 0.8886747928833356\n",
      "Generation 18/20 - Best Brightness: 0.8886747928833356\n",
      "Generation 19/20 - Best Brightness: 0.8886747928833356\n",
      "Generation 20/20 - Best Brightness: 0.8886747928833356\n",
      "Selected Features:\n",
      "['11' '20' '36' '50' 'acapulco' 'alarm' 'alphabet' 'ant' 'area' 'art'\n",
      " 'asstd' 'babushka' 'backpack' 'bakelike' 'ball' 'balloons' 'bank'\n",
      " 'baroque' 'bath' 'beaker' 'bell' 'bells' 'biscuit' 'black' 'blue' 'board'\n",
      " 'botanical' 'bowls' 'box' 'boxed' 'brush' 'bucket' 'bunting' 'cake'\n",
      " 'cakes' 'calendar' 'calm' 'candles' 'carry' 'cash' 'cat' 'chalk'\n",
      " 'chalkboard' 'charm' 'children' 'childrens' 'childs' 'chocolate'\n",
      " 'christmas' 'clock' 'cocktail' 'coffee' 'collage' 'colour' 'coloured'\n",
      " 'come' 'container' 'cookie' 'cosy' 'cover' 'crackle' 'craft' 'cream'\n",
      " 'crystal' 'cups' 'cushion' 'cutlery' 'cutter' 'cutters' 'daisy'\n",
      " 'decoration' 'decorative' 'design' 'diet' 'diner' 'dinner' 'dinosaur'\n",
      " 'dish' 'dog' 'doll' 'dolly' 'dominoes' 'doormat' 'doorstop' 'doughnut'\n",
      " 'dove' 'easter' 'egg' 'empire' 'enamel' 'english' 'fairy' 'fan' 'feather'\n",
      " 'feltcraft' 'filigree' 'finish' 'floral' 'fob' 'folding' 'font' 'friends'\n",
      " 'fruit' 'frying' 'game' 'garden' 'garland' 'giant' 'gin' 'gingerbread'\n",
      " 'girl' 'glass' 'glaze' 'glitter' 'glove' 'green' 'grow' 'gumball'\n",
      " 'harmonica' 'heads' 'heart' 'hearts' 'holiday' 'homemade' 'honeycomb'\n",
      " 'horse' 'house' 'ice' 'incense' 'ivory' 'jack' 'jars' 'jazz' 'jelly'\n",
      " 'jewelled' 'jumbo' 'key' 'kneeling' 'knick' 'knitting' 'lace' 'ladies'\n",
      " 'led' 'lid' 'light' 'lights' 'loaf' 'london' 'lovebird' 'lunch' 'magic'\n",
      " 'magnetic' 'marbles' 'matches' 'medium' 'memo' 'mini' 'mint' 'money'\n",
      " 'mould' 'moulds' 'mug' 'multi' 'nancy' 'napkin' 'napkins' 'oven' 'owls'\n",
      " 'pack' 'paint' 'painted' 'paisley' 'pan' 'parasol' 'parisienne' 'park'\n",
      " 'party' 'peg' 'pencil' 'photo' 'piece' 'pink' 'playhouse' 'popcorn'\n",
      " 'poppy' 'postage' 'pot' 'princess' 'printed' 'purple' 'rabbit' 'record'\n",
      " 'recycled' 'retro' 'rex' 'ribbon' 'ribbons' 'ring' 'rocking' 'roll'\n",
      " 'roses' 'round' 'rustic' 'scented' 'set' 'shaped' 'shed' 'shopper'\n",
      " 'shopping' 'shoulder' 'single' 'size' 'skittles' 'skull' 'skulls' 'small'\n",
      " 'snack' 'soft' 'spaceboy' 'spice' 'spoons' 'square' 'stamp' 'stand'\n",
      " 'star' 'stars' 'stationery' 'stickers' 'sticks' 'stocking' 'sugar' 'suki'\n",
      " 'swirly' 'sympathy' 'tails' 'tea' 'time' 'tin' 'tissue' 'tissues'\n",
      " 'toadstool' 'towel' 'towels' 'traditional' 'treasure' 'trellis' 'triple'\n",
      " 'tv' 'umbrella' 'union' 'vanilla' 'village' 'vintage' 'washing' 'water'\n",
      " 'watering' 'wire' 'world' 'wreath' 'writing' 'zinc']\n"
     ]
    }
   ],
   "source": [
    "X = tfidf_matrix.toarray()\n",
    "y = data['CountryEncoded'].values\n",
    "\n",
    "selected_features_indices = firefly_algorithm(X, y, num_fireflies=10, max_generations=20, alpha=0.2, beta=1.0, gamma=1.0)\n",
    "\n",
    "selected_feature_names = tfidf_vectorizer.get_feature_names_out()[selected_features_indices]\n",
    "print(\"Selected Features:\")\n",
    "print(selected_feature_names)\n"
   ]
  },
  {
   "cell_type": "raw",
   "id": "c007c519-41bf-46da-bd82-0e6b7ff0f0c4",
   "metadata": {},
   "source": [
    "Le modèle SVM (Support Vector Machine) a été utilisé pour classifier les données en fonction des caractéristiques sélectionnées via l'algorithme Firefly. Voici l'output obtenu :\n",
    "\n",
    "Précision (Accuracy) : Le modèle a atteint une précision de 88.87% sur le jeu de données test.\n",
    "Rapport de Classification : Il présente des scores très faibles pour la plupart des classes, sauf pour la classe 35 qui a une précision de 89%. Cela suggère que la majorité des prédictions sont incorrectes, à l'exception de cette classe dominante.\n",
    "Matrice de Confusion : Elle montre une concentration de prédictions dans la classe 35, et des prédictions incorrectes pour les autres classes."
   ]
  },
  {
   "cell_type": "code",
   "execution_count": 34,
   "id": "108f23c8-b2a8-430b-ab19-5ce26a09c0ff",
   "metadata": {},
   "outputs": [
    {
     "name": "stdout",
     "output_type": "stream",
     "text": [
      "SVM Accuracy: 0.8886747928833356\n",
      "\n",
      "Classification Report:\n",
      "               precision    recall  f1-score   support\n",
      "\n",
      "           0       0.00      0.00      0.00       361\n",
      "           1       0.00      0.00      0.00       130\n",
      "           2       0.00      0.00      0.00         5\n",
      "           3       0.00      0.00      0.00       602\n",
      "           4       0.00      0.00      0.00        10\n",
      "           5       0.00      0.00      0.00        55\n",
      "           6       0.00      0.00      0.00       218\n",
      "           7       0.00      0.00      0.00       177\n",
      "           8       0.00      0.00      0.00         9\n",
      "           9       0.00      0.00      0.00       113\n",
      "          10       0.00      0.00      0.00      2183\n",
      "          11       0.00      0.00      0.00        19\n",
      "          12       0.00      0.00      0.00       202\n",
      "          13       0.00      0.00      0.00      2561\n",
      "          14       0.34      0.04      0.07      2771\n",
      "          15       0.00      0.00      0.00        52\n",
      "          16       0.00      0.00      0.00        58\n",
      "          17       0.00      0.00      0.00        60\n",
      "          18       0.00      0.00      0.00       221\n",
      "          19       0.00      0.00      0.00        92\n",
      "          20       0.00      0.00      0.00        14\n",
      "          21       0.00      0.00      0.00         6\n",
      "          22       0.00      0.00      0.00        26\n",
      "          23       0.00      0.00      0.00       703\n",
      "          24       0.00      0.00      0.00       318\n",
      "          25       0.00      0.00      0.00       108\n",
      "          26       0.00      0.00      0.00       419\n",
      "          27       0.00      0.00      0.00         9\n",
      "          28       0.00      0.00      0.00         3\n",
      "          29       0.00      0.00      0.00        57\n",
      "          30       0.00      0.00      0.00       735\n",
      "          31       0.00      0.00      0.00       157\n",
      "          32       0.00      0.00      0.00       608\n",
      "          33       0.00      0.00      0.00        54\n",
      "          34       0.00      0.00      0.00        22\n",
      "          35       0.89      1.00      0.94    104594\n",
      "          36       0.00      0.00      0.00        76\n",
      "\n",
      "    accuracy                           0.89    117808\n",
      "   macro avg       0.03      0.03      0.03    117808\n",
      "weighted avg       0.80      0.89      0.84    117808\n",
      "\n",
      "\n",
      "Confusion Matrix:\n",
      " [[     0      0      0 ...      0    361      0]\n",
      " [     0      0      0 ...      0    125      0]\n",
      " [     0      0      0 ...      0      5      0]\n",
      " ...\n",
      " [     0      0      0 ...      0     22      0]\n",
      " [     0      0      0 ...      0 104579      0]\n",
      " [     0      0      0 ...      0     76      0]]\n"
     ]
    },
    {
     "name": "stderr",
     "output_type": "stream",
     "text": [
      "C:\\Users\\pc\\AppData\\Local\\Programs\\Python\\Python312\\Lib\\site-packages\\sklearn\\metrics\\_classification.py:1531: UndefinedMetricWarning: Precision is ill-defined and being set to 0.0 in labels with no predicted samples. Use `zero_division` parameter to control this behavior.\n",
      "  _warn_prf(average, modifier, f\"{metric.capitalize()} is\", len(result))\n",
      "C:\\Users\\pc\\AppData\\Local\\Programs\\Python\\Python312\\Lib\\site-packages\\sklearn\\metrics\\_classification.py:1531: UndefinedMetricWarning: Precision is ill-defined and being set to 0.0 in labels with no predicted samples. Use `zero_division` parameter to control this behavior.\n",
      "  _warn_prf(average, modifier, f\"{metric.capitalize()} is\", len(result))\n",
      "C:\\Users\\pc\\AppData\\Local\\Programs\\Python\\Python312\\Lib\\site-packages\\sklearn\\metrics\\_classification.py:1531: UndefinedMetricWarning: Precision is ill-defined and being set to 0.0 in labels with no predicted samples. Use `zero_division` parameter to control this behavior.\n",
      "  _warn_prf(average, modifier, f\"{metric.capitalize()} is\", len(result))\n"
     ]
    }
   ],
   "source": [
    "from sklearn.svm import SVC\n",
    "from sklearn.model_selection import train_test_split\n",
    "from sklearn.metrics import accuracy_score, classification_report, confusion_matrix\n",
    "\n",
    "X_selected_features = X[:, selected_features_indices]\n",
    "\n",
    "X_train, X_test, y_train, y_test = train_test_split(\n",
    "    X_selected_features, y, test_size=0.3, random_state=42\n",
    ")\n",
    "\n",
    "svm_classifier = SVC(kernel='linear', random_state=42)\n",
    "\n",
    "svm_classifier.fit(X_train, y_train)\n",
    "\n",
    "y_pred_svm = svm_classifier.predict(X_test)\n",
    "\n",
    "print(\"SVM Accuracy:\", accuracy_score(y_test, y_pred_svm))\n",
    "print(\"\\nClassification Report:\\n\", classification_report(y_test, y_pred_svm))\n",
    "print(\"\\nConfusion Matrix:\\n\", confusion_matrix(y_test, y_pred_svm))\n"
   ]
  },
  {
   "cell_type": "raw",
   "id": "bae272d7-d9fd-4fb6-97f3-09220d9d0e5c",
   "metadata": {},
   "source": [
    "Dans cet exemple, une nouvelle description de produit, \"SMALL HEART MEASURING SPOONS\", a été utilisée comme entrée pour prédire son pays d'origine.\n",
    "\n",
    "Transformation de l'entrée : La description a été convertie en vecteur à l'aide de la même matrice TF-IDF et sélectionnée avec les caractéristiques pertinentes obtenues via l'algorithme Firefly.\n",
    "Prédiction avec le modèle SVM : Le modèle SVM, formé sur les caractéristiques sélectionnées, a prédit que le pays d'origine pour cette description est \"United Kingdom\".\n",
    "Cela montre que le modèle est capable de faire des prédictions sur de nouvelles données, en utilisant les mêmes transformations et sélections de caractéristiques appliquées aux données d'entraînement."
   ]
  },
  {
   "cell_type": "code",
   "execution_count": 42,
   "id": "fa62e5e9-e0a4-43a6-8911-90def294583f",
   "metadata": {},
   "outputs": [
    {
     "name": "stdout",
     "output_type": "stream",
     "text": [
      "Predicted country for the input description: United Kingdom\n"
     ]
    }
   ],
   "source": [
    "new_description = [\"Description 211\tSMALL HEART MEASURING SPOONS \"]\n",
    "\n",
    "X_new_input_dense = X_new_input.toarray()\n",
    "\n",
    "X_new_input_selected_dense = X_new_input_dense[:, selected_features_indices]\n",
    "\n",
    "y_pred_new_input = svm_classifier.predict(X_new_input_selected_dense)\n",
    "\n",
    "predicted_country = encoder.inverse_transform(y_pred_new_input)\n",
    "\n",
    "print(f\"Predicted country for the input description: {predicted_country[0]}\")"
   ]
  },
  {
   "cell_type": "raw",
   "id": "73535716-8f4a-4830-8b55-2e26578f59e8",
   "metadata": {},
   "source": [
    "L'output montre la distribution des classes dans le dataset. Le United Kingdom est dominant avec 349,203 occurrences, tandis que des pays comme Saudi Arabia et Bahrain sont très sous-représentés. Ce déséquilibre peut affecter la performance du modèle, nécessitant des techniques pour le gérer."
   ]
  },
  {
   "cell_type": "code",
   "execution_count": 43,
   "id": "4989cbd4-69bf-4de7-a869-be0946762308",
   "metadata": {},
   "outputs": [
    {
     "name": "stdout",
     "output_type": "stream",
     "text": [
      "Class Distribution in the dataset:\n",
      "Country\n",
      "United Kingdom          349203\n",
      "Germany                   9025\n",
      "France                    8326\n",
      "EIRE                      7226\n",
      "Spain                     2479\n",
      "Netherlands               2359\n",
      "Belgium                   2031\n",
      "Switzerland               1841\n",
      "Portugal                  1453\n",
      "Australia                 1181\n",
      "Norway                    1071\n",
      "Italy                      758\n",
      "Channel Islands            747\n",
      "Finland                    685\n",
      "Cyprus                     603\n",
      "Sweden                     450\n",
      "Austria                    398\n",
      "Denmark                    380\n",
      "Poland                     330\n",
      "Japan                      321\n",
      "Israel                     245\n",
      "Unspecified                241\n",
      "Singapore                  222\n",
      "Iceland                    182\n",
      "USA                        179\n",
      "Canada                     151\n",
      "Greece                     145\n",
      "Malta                      112\n",
      "United Arab Emirates        68\n",
      "European Community          60\n",
      "RSA                         57\n",
      "Lebanon                     45\n",
      "Lithuania                   35\n",
      "Brazil                      32\n",
      "Czech Republic              25\n",
      "Bahrain                     17\n",
      "Saudi Arabia                 9\n",
      "Name: count, dtype: int64\n"
     ]
    }
   ],
   "source": [
    "print(\"Class Distribution in the dataset:\")\n",
    "print(data['Country'].value_counts())"
   ]
  },
  {
   "cell_type": "raw",
   "id": "3ee774b8-9e21-42c9-a7a4-f3e1487292d4",
   "metadata": {},
   "source": [
    "Ce code applique le classificateur Naive Bayes aux résultats de la sélection de caractéristiques et effectue des prédictions sur une nouvelle description. Voici un résumé des étapes clés :\n",
    "\n",
    "Division des données : Les données X sont divisées en ensembles d'entraînement et de test avec train_test_split(). X_selected_features contient les caractéristiques pertinentes, et y est la variable cible (les étiquettes de pays).\n",
    "\n",
    "Entraînement du modèle : Un classificateur MultinomialNB est entraîné avec les données d'entraînement (X_train et y_train).\n",
    "\n",
    "Évaluation du modèle : La précision du classificateur est évaluée sur l'ensemble de test, avec des résultats incluant le score de précision, le rapport de classification (précision, rappel, F1-score), et la matrice de confusion.\n",
    "\n",
    "Prédiction pour une nouvelle entrée : Le classificateur est utilisé pour prédire le pays d'une nouvelle description (\"SMALL HEART MEASURING SPOONS\"). La prédiction est ensuite transformée en étiquette de pays à l'aide de l'inverse de la transformation de l'encodeur."
   ]
  },
  {
   "cell_type": "code",
   "execution_count": null,
   "id": "da7750ea-4349-4182-ae12-2e032eb5e74d",
   "metadata": {},
   "outputs": [],
   "source": [
    "from sklearn.naive_bayes import MultinomialNB\n",
    "from sklearn.model_selection import train_test_split\n",
    "from sklearn.metrics import accuracy_score, classification_report, confusion_matrix"
   ]
  },
  {
   "cell_type": "code",
   "execution_count": null,
   "id": "13aecea7-2699-4798-91c2-ac258153f8ac",
   "metadata": {},
   "outputs": [],
   "source": [
    "X_selected_features = X[:, selected_features_indices]\n",
    "\n",
    "X_train, X_test, y_train, y_test = train_test_split(\n",
    "    X_selected_features, y, test_size=0.3, random_state=42\n",
    ")\n",
    "\n",
    "nb_classifier = MultinomialNB()\n",
    "nb_classifier.fit(X_train, y_train)\n",
    "\n",
    "y_pred_nb = nb_classifier.predict(X_test)\n",
    "\n",
    "print(\"Naive Bayes Accuracy:\", accuracy_score(y_test, y_pred_nb))\n",
    "print(\"\\nClassification Report:\\n\", classification_report(y_test, y_pred_nb))\n",
    "print(\"\\nConfusion Matrix:\\n\", confusion_matrix(y_test, y_pred_nb))\n",
    "\n"
   ]
  },
  {
   "cell_type": "code",
   "execution_count": null,
   "id": "d096ebb0-8902-4325-ba7b-78628ab211fa",
   "metadata": {},
   "outputs": [],
   "source": [
    "new_description = [\"Description 211\tSMALL HEART MEASURING SPOONS \"]\n",
    "\n",
    "X_new_input = tfidf_vectorizer.transform(new_description)\n",
    "\n",
    "X_new_input_dense = X_new_input.toarray()\n",
    "\n",
    "X_new_input_selected_dense = X_new_input_dense[:, selected_features_indices]\n",
    "\n",
    "y_pred_new_input_nb = nb_classifier.predict(X_new_input_selected_dense)\n",
    "\n",
    "predicted_country_nb = encoder.inverse_transform(y_pred_new_input_nb)\n",
    "\n",
    "print(f\"Predicted country for the input description using Naive Bayes: {predicted_country_nb[0]}\")\n"
   ]
  }
 ],
 "metadata": {
  "kernelspec": {
   "display_name": "Python 3 (ipykernel)",
   "language": "python",
   "name": "python3"
  },
  "language_info": {
   "codemirror_mode": {
    "name": "ipython",
    "version": 3
   },
   "file_extension": ".py",
   "mimetype": "text/x-python",
   "name": "python",
   "nbconvert_exporter": "python",
   "pygments_lexer": "ipython3",
   "version": "3.12.4"
  }
 },
 "nbformat": 4,
 "nbformat_minor": 5
}
